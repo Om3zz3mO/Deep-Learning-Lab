{
  "cells": [
    {
      "cell_type": "code",
      "execution_count": null,
      "metadata": {
        "id": "42zev_LFJcNV"
      },
      "outputs": [],
      "source": [
        "from zipfile import ZipFile\n",
        "\n",
        "with ZipFile('cell_images.zip', 'r') as zip:\n",
        "  zip.extractall()"
      ]
    },
    {
      "cell_type": "code",
      "execution_count": null,
      "metadata": {
        "id": "CBhCZi9SKwWU"
      },
      "outputs": [],
      "source": [
        "import pandas as pd\n",
        "import numpy as np\n",
        "\n",
        "from keras import regularizers\n",
        "from PIL import Image\n",
        "import os\n",
        "import cv2\n",
        "from keras.utils import np_utils\n",
        "from keras.models import Sequential\n",
        "from keras.layers import Conv2D,MaxPooling2D,Dense,Flatten,Dropout\n",
        "            \n",
        "from random import shuffle\n",
        "from skimage.transform import resize\n",
        "from tensorflow.keras.utils import to_categorical"
      ]
    },
    {
      "cell_type": "code",
      "source": [
        "data=[]\n",
        "labels=[]\n",
        "Parasitized=os.listdir(\"malaria/cell_images/Parasitized/\")\n",
        "for a in Parasitized:\n",
        "    try:\n",
        "        image=cv2.imread(\"malaria/cell_images/Parasitized/\"+a)\n",
        "        image_from_array = Image.fromarray(image, 'RGB')\n",
        "        size_image = image_from_array.resize((50, 50))\n",
        "        data.append(np.array(size_image))\n",
        "        labels.append(0)\n",
        "    except AttributeError:\n",
        "        print(\"\")"
      ],
      "metadata": {
        "colab": {
          "base_uri": "https://localhost:8080/"
        },
        "id": "myfAckQ7yflm",
        "outputId": "8591d9bc-89b2-4651-a100-a55e2e0b35c6"
      },
      "execution_count": null,
      "outputs": [
        {
          "output_type": "stream",
          "name": "stdout",
          "text": [
            "\n"
          ]
        }
      ]
    },
    {
      "cell_type": "code",
      "source": [
        "Uninfected=os.listdir(\"malaria/cell_images/Uninfected/\")\n",
        "for b in Uninfected:\n",
        "    try:\n",
        "        image=cv2.imread(\"malaria/cell_images/Uninfected/\"+b)\n",
        "        image_from_array = Image.fromarray(image, 'RGB')\n",
        "        size_image = image_from_array.resize((50, 50))\n",
        "        data.append(np.array(size_image))\n",
        "        labels.append(1)\n",
        "    except AttributeError:\n",
        "        print(\"\")"
      ],
      "metadata": {
        "colab": {
          "base_uri": "https://localhost:8080/"
        },
        "id": "OgNprRC4y669",
        "outputId": "ff517aaa-5f44-4286-f7d9-f4742a983c79"
      },
      "execution_count": null,
      "outputs": [
        {
          "output_type": "stream",
          "name": "stdout",
          "text": [
            "\n"
          ]
        }
      ]
    },
    {
      "cell_type": "code",
      "source": [
        "Cells=np.array(data)\n",
        "labesl=np.array(labels)"
      ],
      "metadata": {
        "id": "sdTL1vp3zKhl"
      },
      "execution_count": null,
      "outputs": []
    },
    {
      "cell_type": "code",
      "source": [
        "np.save(\"Cells\",Cells)\n",
        "np.save(\"labels\",labels)"
      ],
      "metadata": {
        "id": "jekjwSbdzWGK"
      },
      "execution_count": null,
      "outputs": []
    },
    {
      "cell_type": "code",
      "source": [
        "Cells=np.load(\"Cells.npy\")\n",
        "labels=np.load(\"labels.npy\")"
      ],
      "metadata": {
        "id": "38jqWt5zzYnj"
      },
      "execution_count": null,
      "outputs": []
    },
    {
      "cell_type": "code",
      "source": [
        "s=np.arange(Cells.shape[0])\n",
        "np.random.shuffle(s)\n",
        "Cells=Cells[s]\n",
        "labels=labels[s]"
      ],
      "metadata": {
        "id": "bgJ1_vW4zaiL"
      },
      "execution_count": null,
      "outputs": []
    },
    {
      "cell_type": "code",
      "source": [
        "num_classes=len(np.unique(labels))\n",
        "len_data=len(Cells)"
      ],
      "metadata": {
        "id": "u0FAskNrzb73"
      },
      "execution_count": null,
      "outputs": []
    },
    {
      "cell_type": "code",
      "source": [
        "(x_train,x_test)=Cells[(int)(0.1*len_data):],Cells[:(int)(0.1*len_data)]\n",
        "x_train = x_train.astype('float32')/255 \n",
        "x_test = x_test.astype('float32')/255\n",
        "train_len=len(x_train)\n",
        "test_len=len(x_test)"
      ],
      "metadata": {
        "id": "c1m_cyJ-zdgF"
      },
      "execution_count": null,
      "outputs": []
    },
    {
      "cell_type": "code",
      "source": [
        "(y_train,y_test)=labels[(int)(0.1*len_data):],labels[:(int)(0.1*len_data)]"
      ],
      "metadata": {
        "id": "na6a4LtSzxAf"
      },
      "execution_count": null,
      "outputs": []
    },
    {
      "cell_type": "code",
      "source": [
        "y_train=to_categorical(y_train,num_classes)\n",
        "y_test=to_categorical(y_test,num_classes)"
      ],
      "metadata": {
        "id": "1lroAIAPz0wS"
      },
      "execution_count": null,
      "outputs": []
    },
    {
      "cell_type": "markdown",
      "source": [
        "Data Agumentation"
      ],
      "metadata": {
        "id": "8LNsauji0n4F"
      }
    },
    {
      "cell_type": "code",
      "source": [
        "from keras.preprocessing.image import ImageDataGenerator"
      ],
      "metadata": {
        "id": "6eNW5aU20es4"
      },
      "execution_count": null,
      "outputs": []
    },
    {
      "cell_type": "code",
      "source": [
        "datagen = ImageDataGenerator(\n",
        "        featurewise_center=False,  \n",
        "        samplewise_center=False,  \n",
        "        featurewise_std_normalization=False,  \n",
        "        samplewise_std_normalization=False,  \n",
        "        zca_whitening=False,  \n",
        "        rotation_range=10,  \n",
        "        zoom_range = 0.1, \n",
        "        width_shift_range=0.1,  \n",
        "        height_shift_range=0.1, \n",
        "        horizontal_flip=False,  \n",
        "        vertical_flip=False)  "
      ],
      "metadata": {
        "id": "azg05LNm3Emt"
      },
      "execution_count": null,
      "outputs": []
    },
    {
      "cell_type": "code",
      "source": [
        "datagen.fit(x_train)"
      ],
      "metadata": {
        "id": "x0Y0ldUS3RTO"
      },
      "execution_count": null,
      "outputs": []
    },
    {
      "cell_type": "markdown",
      "source": [
        "Early Stopping"
      ],
      "metadata": {
        "id": "efMmPCG00wNx"
      }
    },
    {
      "cell_type": "code",
      "source": [
        "from keras.callbacks import EarlyStopping\n",
        "earlystop= EarlyStopping(monitor='val_accuracy', patience=3)\n",
        "epochs = 20 # \n",
        "batch_size = 256"
      ],
      "metadata": {
        "id": "vZ_fYvvX0meH"
      },
      "execution_count": null,
      "outputs": []
    },
    {
      "cell_type": "markdown",
      "source": [
        "Neural network"
      ],
      "metadata": {
        "id": "sE1OfkHW5b4Y"
      }
    },
    {
      "cell_type": "code",
      "source": [
        "model=Sequential()\n",
        "model.add(Conv2D(filters=16,kernel_size=2,padding=\"same\",activation=\"relu\",input_shape=(50,50,3)))\n",
        "model.add(MaxPooling2D(pool_size=2))\n",
        "model.add(Conv2D(filters=32,kernel_size=2,padding=\"same\",activation=\"relu\"))\n",
        "model.add(MaxPooling2D(pool_size=2))\n",
        "model.add(Conv2D(filters=64,kernel_size=2,padding=\"same\",activation=\"relu\"))\n",
        "model.add(MaxPooling2D(pool_size=2))"
      ],
      "metadata": {
        "id": "8-S56U4O3Y3r"
      },
      "execution_count": null,
      "outputs": []
    },
    {
      "cell_type": "markdown",
      "source": [
        "Dropout 1"
      ],
      "metadata": {
        "id": "rXp0wuKJ4OGS"
      }
    },
    {
      "cell_type": "code",
      "source": [
        "model.add(Dropout(0.2))\n",
        "model.add(Flatten())"
      ],
      "metadata": {
        "id": "nleZTofx3lee"
      },
      "execution_count": null,
      "outputs": []
    },
    {
      "cell_type": "markdown",
      "source": [
        "L2 Regularizer"
      ],
      "metadata": {
        "id": "lTL1NBhj4QT_"
      }
    },
    {
      "cell_type": "code",
      "source": [
        "model.add(Dense(500,kernel_regularizer=regularizers.l2(0.01),activation=\"relu\"))"
      ],
      "metadata": {
        "id": "4JtyM8dW3m5p"
      },
      "execution_count": null,
      "outputs": []
    },
    {
      "cell_type": "markdown",
      "source": [
        "Dropout 2"
      ],
      "metadata": {
        "id": "_7eWZiEl4TvK"
      }
    },
    {
      "cell_type": "code",
      "source": [
        "model.add(Dropout(0.2))\n",
        "model.add(Dense(2,activation=\"softmax\"))"
      ],
      "metadata": {
        "id": "NHYDXRQt3o_I"
      },
      "execution_count": null,
      "outputs": []
    },
    {
      "cell_type": "code",
      "source": [
        "model.summary()"
      ],
      "metadata": {
        "colab": {
          "base_uri": "https://localhost:8080/"
        },
        "id": "0JlncZaB3bmG",
        "outputId": "c5617e1f-e1f5-46ca-edfb-3146d1376efb"
      },
      "execution_count": null,
      "outputs": [
        {
          "output_type": "stream",
          "name": "stdout",
          "text": [
            "Model: \"sequential_2\"\n",
            "_________________________________________________________________\n",
            " Layer (type)                Output Shape              Param #   \n",
            "=================================================================\n",
            " conv2d_6 (Conv2D)           (None, 50, 50, 16)        208       \n",
            "                                                                 \n",
            " max_pooling2d_6 (MaxPooling  (None, 25, 25, 16)       0         \n",
            " 2D)                                                             \n",
            "                                                                 \n",
            " conv2d_7 (Conv2D)           (None, 25, 25, 32)        2080      \n",
            "                                                                 \n",
            " max_pooling2d_7 (MaxPooling  (None, 12, 12, 32)       0         \n",
            " 2D)                                                             \n",
            "                                                                 \n",
            " conv2d_8 (Conv2D)           (None, 12, 12, 64)        8256      \n",
            "                                                                 \n",
            " max_pooling2d_8 (MaxPooling  (None, 6, 6, 64)         0         \n",
            " 2D)                                                             \n",
            "                                                                 \n",
            " dropout_2 (Dropout)         (None, 6, 6, 64)          0         \n",
            "                                                                 \n",
            " flatten_2 (Flatten)         (None, 2304)              0         \n",
            "                                                                 \n",
            " dense_4 (Dense)             (None, 500)               1152500   \n",
            "                                                                 \n",
            " dropout_3 (Dropout)         (None, 500)               0         \n",
            "                                                                 \n",
            " dense_5 (Dense)             (None, 2)                 1002      \n",
            "                                                                 \n",
            "=================================================================\n",
            "Total params: 1,164,046\n",
            "Trainable params: 1,164,046\n",
            "Non-trainable params: 0\n",
            "_________________________________________________________________\n"
          ]
        }
      ]
    },
    {
      "cell_type": "code",
      "source": [
        "model.compile(loss='categorical_crossentropy', optimizer='adam', metrics=['accuracy'])"
      ],
      "metadata": {
        "id": "div12bq54Z2z"
      },
      "execution_count": null,
      "outputs": []
    },
    {
      "cell_type": "code",
      "source": [
        "history = model.fit_generator(datagen.flow(x_train,y_train, batch_size=batch_size),\n",
        "                              epochs = epochs, validation_data = (x_test,y_test),\n",
        "                              verbose = 1, steps_per_epoch=x_train.shape[0] // batch_size\n",
        "                              , callbacks=[earlystop])"
      ],
      "metadata": {
        "colab": {
          "base_uri": "https://localhost:8080/"
        },
        "id": "gOqi3MDy4cQh",
        "outputId": "16d0e961-b94f-4b38-bcb5-cd943605df61"
      },
      "execution_count": null,
      "outputs": [
        {
          "output_type": "stream",
          "name": "stderr",
          "text": [
            "/usr/local/lib/python3.7/dist-packages/ipykernel_launcher.py:4: UserWarning: `Model.fit_generator` is deprecated and will be removed in a future version. Please use `Model.fit`, which supports generators.\n",
            "  after removing the cwd from sys.path.\n"
          ]
        },
        {
          "output_type": "stream",
          "name": "stdout",
          "text": [
            "Epoch 1/20\n",
            "96/96 [==============================] - 62s 641ms/step - loss: 1.8465 - accuracy: 0.6201 - val_loss: 0.6246 - val_accuracy: 0.6864\n",
            "Epoch 2/20\n",
            "96/96 [==============================] - 62s 644ms/step - loss: 0.6146 - accuracy: 0.6927 - val_loss: 0.5627 - val_accuracy: 0.7441\n",
            "Epoch 3/20\n",
            "96/96 [==============================] - 60s 628ms/step - loss: 0.5153 - accuracy: 0.7889 - val_loss: 0.4146 - val_accuracy: 0.8838\n",
            "Epoch 4/20\n",
            "96/96 [==============================] - 62s 642ms/step - loss: 0.3652 - accuracy: 0.8846 - val_loss: 0.2619 - val_accuracy: 0.9365\n",
            "Epoch 5/20\n",
            "96/96 [==============================] - 60s 628ms/step - loss: 0.2955 - accuracy: 0.9119 - val_loss: 0.2420 - val_accuracy: 0.9252\n",
            "Epoch 6/20\n",
            "96/96 [==============================] - 60s 626ms/step - loss: 0.2774 - accuracy: 0.9204 - val_loss: 0.2126 - val_accuracy: 0.9448\n",
            "Epoch 7/20\n",
            "96/96 [==============================] - 62s 639ms/step - loss: 0.2538 - accuracy: 0.9295 - val_loss: 0.2125 - val_accuracy: 0.9441\n",
            "Epoch 8/20\n",
            "96/96 [==============================] - 61s 630ms/step - loss: 0.2403 - accuracy: 0.9330 - val_loss: 0.2131 - val_accuracy: 0.9397\n",
            "Epoch 9/20\n",
            "96/96 [==============================] - 62s 639ms/step - loss: 0.2355 - accuracy: 0.9339 - val_loss: 0.1941 - val_accuracy: 0.9597\n",
            "Epoch 10/20\n",
            "96/96 [==============================] - 60s 623ms/step - loss: 0.2231 - accuracy: 0.9386 - val_loss: 0.2056 - val_accuracy: 0.9550\n",
            "Epoch 11/20\n",
            "96/96 [==============================] - 61s 637ms/step - loss: 0.2180 - accuracy: 0.9407 - val_loss: 0.1689 - val_accuracy: 0.9626\n",
            "Epoch 12/20\n",
            "96/96 [==============================] - 60s 624ms/step - loss: 0.2161 - accuracy: 0.9400 - val_loss: 0.1757 - val_accuracy: 0.9608\n",
            "Epoch 13/20\n",
            "96/96 [==============================] - 60s 624ms/step - loss: 0.2144 - accuracy: 0.9424 - val_loss: 0.1708 - val_accuracy: 0.9601\n",
            "Epoch 14/20\n",
            "96/96 [==============================] - 60s 624ms/step - loss: 0.2089 - accuracy: 0.9433 - val_loss: 0.1701 - val_accuracy: 0.9597\n"
          ]
        }
      ]
    },
    {
      "cell_type": "code",
      "source": [
        "pred = model.predict(x_test)"
      ],
      "metadata": {
        "id": "DO9VdT4rAllV"
      },
      "execution_count": null,
      "outputs": []
    },
    {
      "cell_type": "code",
      "source": [
        "_, train_acc = model.evaluate(x_train, y_train, verbose=0)\n",
        "_, test_acc = model.evaluate(x_test, y_test, verbose=0)"
      ],
      "metadata": {
        "id": "o8SvmnJ6A5m1"
      },
      "execution_count": null,
      "outputs": []
    },
    {
      "cell_type": "code",
      "source": [
        "print(\"Train Accuracy:\", train_acc*100)\n",
        "print(\"Test Accuracy:\", test_acc*100)"
      ],
      "metadata": {
        "colab": {
          "base_uri": "https://localhost:8080/"
        },
        "id": "p35duAKSBY4y",
        "outputId": "d43a929a-30ab-40d9-ff52-add5ad7fc8e9"
      },
      "execution_count": null,
      "outputs": [
        {
          "output_type": "stream",
          "name": "stdout",
          "text": [
            "Train Accuracy: 95.44410109519958\n",
            "Test Accuracy: 95.9709644317627\n"
          ]
        }
      ]
    }
  ],
  "metadata": {
    "colab": {
      "provenance": []
    },
    "kernelspec": {
      "display_name": "Python 3",
      "name": "python3"
    },
    "language_info": {
      "name": "python"
    }
  },
  "nbformat": 4,
  "nbformat_minor": 0
}