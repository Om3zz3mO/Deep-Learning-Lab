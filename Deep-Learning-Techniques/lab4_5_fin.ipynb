{
  "nbformat": 4,
  "nbformat_minor": 0,
  "metadata": {
    "colab": {
      "provenance": []
    },
    "kernelspec": {
      "name": "python3",
      "display_name": "Python 3"
    },
    "language_info": {
      "name": "python"
    }
  },
  "cells": [
    {
      "cell_type": "code",
      "execution_count": null,
      "metadata": {
        "id": "ssswIYoaGRHY"
      },
      "outputs": [],
      "source": [
        "import numpy as np\n",
        "import time\n",
        "import matplotlib.pyplot as plt\n",
        "from sklearn.datasets import load_boston\n",
        "from numpy.linalg import inv, norm\n",
        "from sklearn.model_selection import train_test_split\n",
        "import pandas as pd\n",
        "from sklearn.linear_model import SGDRegressor\n",
        "from sklearn.metrics import mean_squared_error"
      ]
    },
    {
      "cell_type": "code",
      "source": [
        "boston = load_boston()\n",
        "df_boston = pd.DataFrame(boston.data, columns=boston.feature_names)\n",
        "df_boston['MEDV'] =  boston.target"
      ],
      "metadata": {
        "colab": {
          "base_uri": "https://localhost:8080/"
        },
        "id": "pgD9xtXnGagy",
        "outputId": "4451c1bc-0713-4d89-916f-5f2a8e4601f1"
      },
      "execution_count": null,
      "outputs": [
        {
          "output_type": "stream",
          "name": "stderr",
          "text": [
            "/usr/local/lib/python3.7/dist-packages/sklearn/utils/deprecation.py:87: FutureWarning: Function load_boston is deprecated; `load_boston` is deprecated in 1.0 and will be removed in 1.2.\n",
            "\n",
            "    The Boston housing prices dataset has an ethical problem. You can refer to\n",
            "    the documentation of this function for further details.\n",
            "\n",
            "    The scikit-learn maintainers therefore strongly discourage the use of this\n",
            "    dataset unless the purpose of the code is to study and educate about\n",
            "    ethical issues in data science and machine learning.\n",
            "\n",
            "    In this special case, you can fetch the dataset from the original\n",
            "    source::\n",
            "\n",
            "        import pandas as pd\n",
            "        import numpy as np\n",
            "\n",
            "\n",
            "        data_url = \"http://lib.stat.cmu.edu/datasets/boston\"\n",
            "        raw_df = pd.read_csv(data_url, sep=\"\\s+\", skiprows=22, header=None)\n",
            "        data = np.hstack([raw_df.values[::2, :], raw_df.values[1::2, :2]])\n",
            "        target = raw_df.values[1::2, 2]\n",
            "\n",
            "    Alternative datasets include the California housing dataset (i.e.\n",
            "    :func:`~sklearn.datasets.fetch_california_housing`) and the Ames housing\n",
            "    dataset. You can load the datasets as follows::\n",
            "\n",
            "        from sklearn.datasets import fetch_california_housing\n",
            "        housing = fetch_california_housing()\n",
            "\n",
            "    for the California housing dataset and::\n",
            "\n",
            "        from sklearn.datasets import fetch_openml\n",
            "        housing = fetch_openml(name=\"house_prices\", as_frame=True)\n",
            "\n",
            "    for the Ames housing dataset.\n",
            "    \n",
            "  warnings.warn(msg, category=FutureWarning)\n"
          ]
        }
      ]
    },
    {
      "cell_type": "code",
      "source": [
        "X = df_boston[['PTRATIO', 'LSTAT']]\n",
        "Y = df_boston.MEDV\n",
        "X = (X - X.mean(axis=0))/ X.std(axis=0)\n",
        "X, Y = X.to_numpy(), Y.to_numpy().reshape(-1, 1)\n",
        "N, F = X.shape\n",
        "X = np.hstack((np.ones((N, 1)), X))\n",
        "x_train, x_test, y_train, y_test = train_test_split(X, Y, test_size=0.3, random_state=42)\n",
        "n_test = x_test.shape[0]"
      ],
      "metadata": {
        "id": "l0RpT6P2GqPD"
      },
      "execution_count": null,
      "outputs": []
    },
    {
      "cell_type": "code",
      "source": [
        "n_epochs = 190\n",
        "alpha = 0.01\n",
        "def stochastic_gradient_descent(X, Y, F, alpha, n_epochs):\n",
        "    W = np.zeros((F+1, 1))\n",
        "    N = X.shape[0]\n",
        "    loss = []\n",
        "    for _ in range(n_epochs):\n",
        "        np.random.shuffle(X)\n",
        "        sum_errors = 0\n",
        "        for i in range(N):\n",
        "            grad = 2/N * np.matmul((np.matmul(X[i:i+1,:], W) - Y[i:i+1,:]).T, X[i:i+1,:])\n",
        "            W = W - alpha*grad.T\n",
        "            err = norm(np.matmul(X[i:i+1,:],W) - Y[i:i+1,:])**2\n",
        "            sum_errors += err\n",
        "            \n",
        "        loss.append(1/N * sum_errors)\n",
        " \n",
        "    return W, loss\n",
        "\n",
        "W_sgd, loss_sgd = stochastic_gradient_descent(x_train, y_train, F, alpha, n_epochs)\n",
        "\n",
        "test_loss = np.sqrt(1/n_test * norm(np.matmul(x_test, W_sgd) - y_test)**2)\n",
        "print(\"The RMSE for SGD is:\", test_loss)"
      ],
      "metadata": {
        "colab": {
          "base_uri": "https://localhost:8080/"
        },
        "id": "xofKHx_wGuED",
        "outputId": "457bacca-2b81-449c-ea6a-8a98f411b570"
      },
      "execution_count": null,
      "outputs": [
        {
          "output_type": "stream",
          "name": "stdout",
          "text": [
            "The RMSE for SGD is: 8.584060278266891\n"
          ]
        }
      ]
    },
    {
      "cell_type": "code",
      "source": [],
      "metadata": {
        "id": "g-mQrSJdjsvM"
      },
      "execution_count": null,
      "outputs": []
    },
    {
      "cell_type": "code",
      "source": [
        "n_epochs = 190\n",
        "alpha = 0.01\n",
        "mb = 32\n",
        "def minibatch_gradient_descent(X, Y, F, alpha, n_epochs, mb):\n",
        "    W = np.zeros((F+1, 1))\n",
        "    N = X.shape[0]\n",
        "    loss = []\n",
        "    for _ in range(n_epochs):\n",
        "        np.random.shuffle(X)\n",
        "        sum_errors = 0\n",
        "        for i in range(N-mb+1):\n",
        "            grad = 2/N * np.matmul((np.matmul(X[i:i+mb,:], W) - Y[i:i+mb,:]).T, X[i:i+mb,:])\n",
        "            err = 1/mb * norm(np.matmul(X[i:i+mb,:],W) - Y[i:i+mb,:])**2\n",
        "            W = W - alpha*grad.T\n",
        "            sum_errors += err\n",
        "\n",
        "        loss.append(1/N * sum_errors)\n",
        " \n",
        "    return W, loss\n",
        "W_mbgd, loss_mbgd = minibatch_gradient_descent(x_train, y_train, F, alpha, n_epochs, mb)\n",
        "\n",
        "test_loss = np.sqrt(1/n_test * norm(np.matmul(x_test, W_mbgd) - y_test)**2)\n",
        "print(\"The RMSE loss for minibatch gradient descent is:\", test_loss)"
      ],
      "metadata": {
        "colab": {
          "base_uri": "https://localhost:8080/"
        },
        "id": "9lVRq1cFHZSQ",
        "outputId": "4c511f37-c592-4a41-c154-b74ab2d48afb"
      },
      "execution_count": null,
      "outputs": [
        {
          "output_type": "stream",
          "name": "stdout",
          "text": [
            "The RMSE loss for minibatch gradient descent is: 8.557951393972616\n"
          ]
        }
      ]
    },
    {
      "cell_type": "code",
      "source": [
        "clf_ = SGDRegressor(max_iter=190, alpha=0.01)\n",
        "clf_.fit(x_train, y_train)\n",
        "y_pred_sksgd=clf_.predict(x_test)\n",
        "print('RMSE for SGDRegressor is:',np.sqrt(mean_squared_error(y_test, y_pred_sksgd)))"
      ],
      "metadata": {
        "colab": {
          "base_uri": "https://localhost:8080/"
        },
        "id": "HwgH5wDGHkB5",
        "outputId": "cc908276-583e-4d9f-96ea-a066c7776ade"
      },
      "execution_count": null,
      "outputs": [
        {
          "output_type": "stream",
          "name": "stdout",
          "text": [
            "RMSE for SGDRegressor is: 8.612299152021352\n"
          ]
        },
        {
          "output_type": "stream",
          "name": "stderr",
          "text": [
            "/usr/local/lib/python3.7/dist-packages/sklearn/utils/validation.py:993: DataConversionWarning: A column-vector y was passed when a 1d array was expected. Please change the shape of y to (n_samples, ), for example using ravel().\n",
            "  y = column_or_1d(y, warn=True)\n"
          ]
        }
      ]
    }
  ]
}