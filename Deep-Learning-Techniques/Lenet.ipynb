{
  "nbformat": 4,
  "nbformat_minor": 0,
  "metadata": {
    "colab": {
      "provenance": []
    },
    "kernelspec": {
      "name": "python3",
      "display_name": "Python 3"
    },
    "language_info": {
      "name": "python"
    }
  },
  "cells": [
    {
      "cell_type": "code",
      "execution_count": null,
      "metadata": {
        "id": "s78qI1-FK_qD"
      },
      "outputs": [],
      "source": [
        "import keras\n",
        "from keras.datasets import mnist\n",
        "from keras.layers import Conv2D, MaxPooling2D\n",
        "from keras.layers import Dense, Flatten\n",
        "from keras.models import Sequential\n",
        "from tensorflow.keras.utils import to_categorical\n",
        "from tensorflow.keras.optimizers import Adam"
      ]
    },
    {
      "cell_type": "code",
      "source": [
        "(x_train, y_train), (x_test, y_test) = mnist.load_data()"
      ],
      "metadata": {
        "id": "8qkN4aMVMZ9J"
      },
      "execution_count": null,
      "outputs": []
    },
    {
      "cell_type": "code",
      "source": [
        "\n",
        "x_train = x_train.reshape(x_train.shape[0], 28, 28, 1)\n",
        "x_test = x_test.reshape(x_test.shape[0], 28, 28, 1)"
      ],
      "metadata": {
        "id": "MWsasAGIMgsd"
      },
      "execution_count": null,
      "outputs": []
    },
    {
      "cell_type": "code",
      "source": [
        "\n",
        "x_train = x_train / 255\n",
        "x_test = x_test / 255"
      ],
      "metadata": {
        "id": "wYy3nm1qQe4Q"
      },
      "execution_count": null,
      "outputs": []
    },
    {
      "cell_type": "code",
      "source": [
        "\n",
        "y_train = to_categorical(y_train, 10)\n",
        "y_test = to_categorical(y_test, 10)"
      ],
      "metadata": {
        "id": "RNSOlFLhQgZN"
      },
      "execution_count": null,
      "outputs": []
    },
    {
      "cell_type": "code",
      "source": [
        "model = Sequential()\n",
        "model.add(Conv2D(6, kernel_size=(5, 5), activation='relu', input_shape=(28, 28, 1)))\n",
        "model.add(MaxPooling2D(pool_size=(2, 2)))\n",
        "model.add(Conv2D(16, kernel_size=(5, 5), activation='relu'))\n",
        "model.add(MaxPooling2D(pool_size=(2, 2)))\n",
        "model.add(Flatten())\n",
        "model.add(Dense(120, activation='relu'))\n",
        "model.add(Dense(84, activation='relu'))\n",
        "model.add(Dense(10, activation='softmax'))"
      ],
      "metadata": {
        "id": "qaR9BWLoM6Ls"
      },
      "execution_count": null,
      "outputs": []
    },
    {
      "cell_type": "code",
      "source": [
        "model.compile(loss=keras.metrics.categorical_crossentropy, optimizer= Adam(), metrics=['accuracy'])"
      ],
      "metadata": {
        "id": "GEBB9FxqQnRI"
      },
      "execution_count": null,
      "outputs": []
    },
    {
      "cell_type": "code",
      "source": [
        "model.fit(x_train, y_train, batch_size=128, epochs=30, verbose=1, validation_data=(x_test, y_test))"
      ],
      "metadata": {
        "colab": {
          "base_uri": "https://localhost:8080/"
        },
        "id": "SAjYiqyvNX1C",
        "outputId": "8c8cefe1-7f52-4a0f-eab9-4f81e494df42"
      },
      "execution_count": null,
      "outputs": [
        {
          "output_type": "stream",
          "name": "stdout",
          "text": [
            "Epoch 1/30\n",
            "469/469 [==============================] - 22s 47ms/step - loss: 0.2945 - accuracy: 0.9129 - val_loss: 0.0794 - val_accuracy: 0.9752\n",
            "Epoch 2/30\n",
            "469/469 [==============================] - 21s 44ms/step - loss: 0.0769 - accuracy: 0.9769 - val_loss: 0.0620 - val_accuracy: 0.9790\n",
            "Epoch 3/30\n",
            "469/469 [==============================] - 21s 44ms/step - loss: 0.0555 - accuracy: 0.9827 - val_loss: 0.0453 - val_accuracy: 0.9846\n",
            "Epoch 4/30\n",
            "469/469 [==============================] - 21s 44ms/step - loss: 0.0423 - accuracy: 0.9872 - val_loss: 0.0371 - val_accuracy: 0.9869\n",
            "Epoch 5/30\n",
            "469/469 [==============================] - 22s 47ms/step - loss: 0.0357 - accuracy: 0.9889 - val_loss: 0.0313 - val_accuracy: 0.9890\n",
            "Epoch 6/30\n",
            "469/469 [==============================] - 21s 45ms/step - loss: 0.0291 - accuracy: 0.9908 - val_loss: 0.0316 - val_accuracy: 0.9895\n",
            "Epoch 7/30\n",
            "469/469 [==============================] - 21s 45ms/step - loss: 0.0262 - accuracy: 0.9913 - val_loss: 0.0388 - val_accuracy: 0.9880\n",
            "Epoch 8/30\n",
            "469/469 [==============================] - 21s 44ms/step - loss: 0.0226 - accuracy: 0.9923 - val_loss: 0.0323 - val_accuracy: 0.9898\n",
            "Epoch 9/30\n",
            "469/469 [==============================] - 21s 45ms/step - loss: 0.0193 - accuracy: 0.9938 - val_loss: 0.0330 - val_accuracy: 0.9895\n",
            "Epoch 10/30\n",
            "469/469 [==============================] - 21s 45ms/step - loss: 0.0169 - accuracy: 0.9944 - val_loss: 0.0286 - val_accuracy: 0.9905\n",
            "Epoch 11/30\n",
            "469/469 [==============================] - 21s 45ms/step - loss: 0.0152 - accuracy: 0.9949 - val_loss: 0.0264 - val_accuracy: 0.9920\n",
            "Epoch 12/30\n",
            "469/469 [==============================] - 21s 45ms/step - loss: 0.0137 - accuracy: 0.9956 - val_loss: 0.0321 - val_accuracy: 0.9902\n",
            "Epoch 13/30\n",
            "469/469 [==============================] - 21s 45ms/step - loss: 0.0122 - accuracy: 0.9958 - val_loss: 0.0337 - val_accuracy: 0.9906\n",
            "Epoch 14/30\n",
            "469/469 [==============================] - 21s 45ms/step - loss: 0.0107 - accuracy: 0.9962 - val_loss: 0.0431 - val_accuracy: 0.9889\n",
            "Epoch 15/30\n",
            "469/469 [==============================] - 22s 47ms/step - loss: 0.0124 - accuracy: 0.9954 - val_loss: 0.0351 - val_accuracy: 0.9901\n",
            "Epoch 16/30\n",
            "469/469 [==============================] - 21s 45ms/step - loss: 0.0073 - accuracy: 0.9977 - val_loss: 0.0331 - val_accuracy: 0.9913\n",
            "Epoch 17/30\n",
            "469/469 [==============================] - 21s 44ms/step - loss: 0.0101 - accuracy: 0.9965 - val_loss: 0.0349 - val_accuracy: 0.9908\n",
            "Epoch 18/30\n",
            "469/469 [==============================] - 21s 45ms/step - loss: 0.0070 - accuracy: 0.9979 - val_loss: 0.0499 - val_accuracy: 0.9884\n",
            "Epoch 19/30\n",
            "469/469 [==============================] - 21s 44ms/step - loss: 0.0092 - accuracy: 0.9966 - val_loss: 0.0372 - val_accuracy: 0.9902\n",
            "Epoch 20/30\n",
            "469/469 [==============================] - 21s 44ms/step - loss: 0.0072 - accuracy: 0.9976 - val_loss: 0.0343 - val_accuracy: 0.9919\n",
            "Epoch 21/30\n",
            "469/469 [==============================] - 21s 45ms/step - loss: 0.0051 - accuracy: 0.9983 - val_loss: 0.0454 - val_accuracy: 0.9892\n",
            "Epoch 22/30\n",
            "469/469 [==============================] - 21s 45ms/step - loss: 0.0048 - accuracy: 0.9985 - val_loss: 0.0551 - val_accuracy: 0.9867\n",
            "Epoch 23/30\n",
            "469/469 [==============================] - 21s 45ms/step - loss: 0.0058 - accuracy: 0.9981 - val_loss: 0.0414 - val_accuracy: 0.9902\n",
            "Epoch 24/30\n",
            "469/469 [==============================] - 21s 45ms/step - loss: 0.0068 - accuracy: 0.9979 - val_loss: 0.0432 - val_accuracy: 0.9905\n",
            "Epoch 25/30\n",
            "469/469 [==============================] - 22s 48ms/step - loss: 0.0057 - accuracy: 0.9981 - val_loss: 0.0496 - val_accuracy: 0.9890\n",
            "Epoch 26/30\n",
            "469/469 [==============================] - 21s 45ms/step - loss: 0.0056 - accuracy: 0.9979 - val_loss: 0.0442 - val_accuracy: 0.9908\n",
            "Epoch 27/30\n",
            "469/469 [==============================] - 21s 45ms/step - loss: 0.0048 - accuracy: 0.9983 - val_loss: 0.0466 - val_accuracy: 0.9884\n",
            "Epoch 28/30\n",
            "469/469 [==============================] - 21s 45ms/step - loss: 0.0025 - accuracy: 0.9992 - val_loss: 0.0372 - val_accuracy: 0.9919\n",
            "Epoch 29/30\n",
            "469/469 [==============================] - 21s 45ms/step - loss: 0.0065 - accuracy: 0.9978 - val_loss: 0.0444 - val_accuracy: 0.9902\n",
            "Epoch 30/30\n",
            "469/469 [==============================] - 21s 45ms/step - loss: 0.0050 - accuracy: 0.9984 - val_loss: 0.0373 - val_accuracy: 0.9916\n"
          ]
        },
        {
          "output_type": "execute_result",
          "data": {
            "text/plain": [
              "<keras.callbacks.History at 0x7f6abf4c6dd0>"
            ]
          },
          "metadata": {},
          "execution_count": 25
        }
      ]
    },
    {
      "cell_type": "code",
      "source": [
        "score = model.evaluate(x_test, y_test)\n",
        "print('Test Loss:', score[0])\n",
        "print('Test accuracy:', score[1])"
      ],
      "metadata": {
        "colab": {
          "base_uri": "https://localhost:8080/"
        },
        "id": "QFW3jeXhP_rT",
        "outputId": "f7aa6c99-6d9d-44c1-d7d0-6e65b0e61ad7"
      },
      "execution_count": null,
      "outputs": [
        {
          "output_type": "stream",
          "name": "stdout",
          "text": [
            "313/313 [==============================] - 2s 6ms/step - loss: 0.0373 - accuracy: 0.9916\n",
            "Test Loss: 0.037347227334976196\n",
            "Test accuracy: 0.991599977016449\n"
          ]
        }
      ]
    }
  ]
}