{
  "nbformat": 4,
  "nbformat_minor": 0,
  "metadata": {
    "colab": {
      "provenance": []
    },
    "kernelspec": {
      "name": "python3",
      "display_name": "Python 3"
    },
    "language_info": {
      "name": "python"
    }
  },
  "cells": [
    {
      "cell_type": "code",
      "execution_count": null,
      "metadata": {
        "id": "ak8AfZd0Os0y"
      },
      "outputs": [],
      "source": [
        "import numpy as np"
      ]
    },
    {
      "cell_type": "code",
      "source": [
        "txt_data = \"abcdefghijklmnopqrstuvwxyz abcdefghijklmnopqrstuvwxyz abcdefghijklmnopqrstuvwxyz \" # input data"
      ],
      "metadata": {
        "id": "4w4yLlUWZRLR"
      },
      "execution_count": null,
      "outputs": []
    },
    {
      "cell_type": "code",
      "source": [
        "chars = list(set(txt_data))\n",
        "num_chars = len(chars) \n",
        "txt_data_size = len(txt_data)\n",
        "\n",
        "print(\"unique characters : \", num_chars) \n",
        "print(\"txt_data_size : \", txt_data_size)"
      ],
      "metadata": {
        "colab": {
          "base_uri": "https://localhost:8080/"
        },
        "id": "7D8ZtBNiZT71",
        "outputId": "1e89ca07-a4a7-47e7-ec97-11a84d2cf58f"
      },
      "execution_count": null,
      "outputs": [
        {
          "output_type": "stream",
          "name": "stdout",
          "text": [
            "unique characters :  27\n",
            "txt_data_size :  81\n"
          ]
        }
      ]
    },
    {
      "cell_type": "code",
      "source": [
        "char_to_int = dict((c, i) for i, c in enumerate(chars)) \n",
        "int_to_char = dict((i, c) for i, c in enumerate(chars))\n",
        "print(char_to_int)\n",
        "print(\"----------------------------------------------------\")\n",
        "print(int_to_char)\n",
        "print(\"----------------------------------------------------\")\n",
        "integer_encoded = [char_to_int[i] for i in txt_data] \n",
        "print(integer_encoded)\n",
        "print(\"----------------------------------------------------\")\n",
        "print(\"data length : \", len(integer_encoded))"
      ],
      "metadata": {
        "colab": {
          "base_uri": "https://localhost:8080/"
        },
        "id": "Bumvabu4ZXUA",
        "outputId": "2e2afa28-aa80-4d9e-e478-fc884de70953"
      },
      "execution_count": null,
      "outputs": [
        {
          "output_type": "stream",
          "name": "stdout",
          "text": [
            "{'e': 0, 'o': 1, 'g': 2, 's': 3, 'n': 4, 'm': 5, 'p': 6, 'j': 7, ' ': 8, 'q': 9, 'i': 10, 'b': 11, 'd': 12, 'k': 13, 'x': 14, 'y': 15, 'z': 16, 'c': 17, 'v': 18, 'f': 19, 'h': 20, 'w': 21, 'a': 22, 'l': 23, 'u': 24, 't': 25, 'r': 26}\n",
            "----------------------------------------------------\n",
            "{0: 'e', 1: 'o', 2: 'g', 3: 's', 4: 'n', 5: 'm', 6: 'p', 7: 'j', 8: ' ', 9: 'q', 10: 'i', 11: 'b', 12: 'd', 13: 'k', 14: 'x', 15: 'y', 16: 'z', 17: 'c', 18: 'v', 19: 'f', 20: 'h', 21: 'w', 22: 'a', 23: 'l', 24: 'u', 25: 't', 26: 'r'}\n",
            "----------------------------------------------------\n",
            "[22, 11, 17, 12, 0, 19, 2, 20, 10, 7, 13, 23, 5, 4, 1, 6, 9, 26, 3, 25, 24, 18, 21, 14, 15, 16, 8, 22, 11, 17, 12, 0, 19, 2, 20, 10, 7, 13, 23, 5, 4, 1, 6, 9, 26, 3, 25, 24, 18, 21, 14, 15, 16, 8, 22, 11, 17, 12, 0, 19, 2, 20, 10, 7, 13, 23, 5, 4, 1, 6, 9, 26, 3, 25, 24, 18, 21, 14, 15, 16, 8]\n",
            "----------------------------------------------------\n",
            "data length :  81\n"
          ]
        }
      ]
    },
    {
      "cell_type": "code",
      "source": [
        "onehot_encoded = []\n",
        "\n",
        "for ix in integer_encoded:\n",
        "    letter = [0 for _ in range(len(chars))]\n",
        "    letter[ix] = 1 \n",
        "    onehot_encoded.append(letter) \n",
        "onehot_encoded = np.array(onehot_encoded)  \n",
        "\n",
        "print(onehot_encoded.shape)     \n",
        "print(onehot_encoded)"
      ],
      "metadata": {
        "colab": {
          "base_uri": "https://localhost:8080/"
        },
        "id": "WrIIubYQZZcK",
        "outputId": "db14669c-b22f-4463-938c-60d3b7f1b687"
      },
      "execution_count": null,
      "outputs": [
        {
          "output_type": "stream",
          "name": "stdout",
          "text": [
            "(81, 27)\n",
            "[[0 0 0 ... 0 0 0]\n",
            " [0 0 0 ... 0 0 0]\n",
            " [0 0 0 ... 0 0 0]\n",
            " ...\n",
            " [0 0 0 ... 0 0 0]\n",
            " [0 0 0 ... 0 0 0]\n",
            " [0 0 0 ... 0 0 0]]\n"
          ]
        }
      ]
    },
    {
      "cell_type": "code",
      "source": [
        "inverted = int_to_char[np.argmax(onehot_encoded[0])] \n",
        "print(inverted)"
      ],
      "metadata": {
        "colab": {
          "base_uri": "https://localhost:8080/"
        },
        "id": "EAfX32hQZVvz",
        "outputId": "8b1fa2e6-46c3-4a5c-9bbe-acbde49a781e"
      },
      "execution_count": null,
      "outputs": [
        {
          "output_type": "stream",
          "name": "stdout",
          "text": [
            "a\n"
          ]
        }
      ]
    },
    {
      "cell_type": "code",
      "source": [
        "iteration = 5000\n",
        "sequence_length = 10\n",
        "batch_size = round((txt_data_size /sequence_length)+0.5) \n",
        "hidden_size = 100   \n",
        "learning_rate = 1e-1\n",
        "\n",
        "W_xh = np.random.randn(hidden_size, num_chars)*0.01     \n",
        "W_hh = np.random.randn(hidden_size, hidden_size)*0.01  \n",
        "W_hy = np.random.randn(num_chars, hidden_size)*0.01    \n",
        "\n",
        "b_h = np.zeros((hidden_size, 1)) \n",
        "b_y = np.zeros((num_chars, 1)) \n",
        "\n",
        "h_prev = np.zeros((hidden_size,1)) "
      ],
      "metadata": {
        "id": "9CWTspacZhUc"
      },
      "execution_count": null,
      "outputs": []
    },
    {
      "cell_type": "code",
      "source": [
        "def forwardprop(inputs, targets, h_prev):\n",
        "\n",
        "    xs, hs, ys, ps = {}, {}, {}, {} \n",
        "    hs[-1] = np.copy(h_prev) \n",
        "    loss = 0 \n",
        "    \n",
        "    for t in range(len(inputs)): \n",
        "        \n",
        "        xs[t] = np.zeros((num_chars,1)) \n",
        "        xs[t][inputs[t]] = 1\n",
        "        hs[t] = np.tanh(np.dot(W_xh, xs[t]) + np.dot(W_hh, hs[t-1]) + b_h) \n",
        "        ys[t] = np.dot(W_hy, hs[t]) + b_y \n",
        "        ps[t] = np.exp(ys[t]) / np.sum(np.exp(ys[t])) \n",
        " \n",
        "        loss += -np.log(ps[t][targets[t],0])\n",
        "    return loss, ps, hs, xs "
      ],
      "metadata": {
        "id": "Y3ExKhIkZl1z"
      },
      "execution_count": null,
      "outputs": []
    },
    {
      "cell_type": "code",
      "source": [
        "def backprop(ps, inputs, hs, xs):\n",
        "\n",
        "    dWxh, dWhh, dWhy = np.zeros_like(W_xh), np.zeros_like(W_hh), np.zeros_like(W_hy) \n",
        "    dbh, dby = np.zeros_like(b_h), np.zeros_like(b_y)\n",
        "    dhnext = np.zeros_like(hs[0]) \n",
        "\n",
        "    for t in reversed(range(len(inputs))):\n",
        "        dy = np.copy(ps[t]) \n",
        "        dy[targets[t]] -= 1 \n",
        "        dWhy += np.dot(dy, hs[t].T)\n",
        "        dby += dy \n",
        "        dh = np.dot(W_hy.T, dy) + dhnext \n",
        "        dhraw = (1 - hs[t] * hs[t]) * dh\n",
        "        dbh += dhraw\n",
        "        dWxh += np.dot(dhraw, xs[t].T)\n",
        "        dWhh += np.dot(dhraw, hs[t-1].T)\n",
        "        dhnext = np.dot(W_hh.T, dhraw)\n",
        "    for dparam in [dWxh, dWhh, dWhy, dbh, dby]: \n",
        "        np.clip(dparam, -5, 5, out=dparam) \n",
        "    \n",
        "    return dWxh, dWhh, dWhy, dbh, dby"
      ],
      "metadata": {
        "id": "3S7zdjcvZoj2"
      },
      "execution_count": null,
      "outputs": []
    },
    {
      "cell_type": "code",
      "source": [
        "data_pointer = 0\n",
        "\n",
        "mWxh, mWhh, mWhy = np.zeros_like(W_xh), np.zeros_like(W_hh), np.zeros_like(W_hy)\n",
        "mbh, mby = np.zeros_like(b_h), np.zeros_like(b_y) \n",
        "\n",
        "\n",
        "for i in range(iteration):\n",
        "    h_prev = np.zeros((hidden_size,1)) \n",
        "    data_pointer = 0 \n",
        "    \n",
        "    for b in range(batch_size):\n",
        "        \n",
        "        inputs = [char_to_int[ch] for ch in txt_data[data_pointer:data_pointer+sequence_length]]\n",
        "        targets = [char_to_int[ch] for ch in txt_data[data_pointer+1:data_pointer+sequence_length+1]]      \n",
        "            \n",
        "        if (data_pointer+sequence_length+1 >= len(txt_data) and b == batch_size-1):  \n",
        "            targets.append(char_to_int[\" \"])   \n",
        "\n",
        "        loss, ps, hs, xs = forwardprop(inputs, targets, h_prev)\n",
        "    \n",
        "        dWxh, dWhh, dWhy, dbh, dby = backprop(ps, inputs, hs, xs) \n",
        "        \n",
        "        for param, dparam, mem in zip([W_xh, W_hh, W_hy, b_h, b_y], \n",
        "                                    [dWxh, dWhh, dWhy, dbh, dby], \n",
        "                                    [mWxh, mWhh, mWhy, mbh, mby]):\n",
        "            mem += dparam * dparam \n",
        "            param += -learning_rate * dparam / np.sqrt(mem + 1e-8)     \n",
        "    \n",
        "        data_pointer += sequence_length \n",
        "        \n",
        "    if i % 100 == 0:\n",
        "        print ('iter %d, loss: %f' % (i, loss)) "
      ],
      "metadata": {
        "colab": {
          "base_uri": "https://localhost:8080/"
        },
        "id": "oS66ZMheZi9T",
        "outputId": "07f9790a-b10f-4b0c-b589-b9609ebe6a3b"
      },
      "execution_count": null,
      "outputs": [
        {
          "output_type": "stream",
          "name": "stdout",
          "text": [
            "iter 0, loss: 3.375564\n",
            "iter 100, loss: 0.011112\n",
            "iter 200, loss: 0.004815\n",
            "iter 300, loss: 0.003006\n",
            "iter 400, loss: 0.002147\n",
            "iter 500, loss: 0.001654\n",
            "iter 600, loss: 0.001338\n",
            "iter 700, loss: 0.001120\n",
            "iter 800, loss: 0.000961\n",
            "iter 900, loss: 0.000840\n",
            "iter 1000, loss: 0.000746\n",
            "iter 1100, loss: 0.000672\n",
            "iter 1200, loss: 0.000611\n",
            "iter 1300, loss: 0.000560\n",
            "iter 1400, loss: 0.000517\n",
            "iter 1500, loss: 0.000480\n",
            "iter 1600, loss: 0.000447\n",
            "iter 1700, loss: 0.000419\n",
            "iter 1800, loss: 0.000394\n",
            "iter 1900, loss: 0.000372\n",
            "iter 2000, loss: 0.000352\n",
            "iter 2100, loss: 0.000334\n",
            "iter 2200, loss: 0.000318\n",
            "iter 2300, loss: 0.000303\n",
            "iter 2400, loss: 0.000290\n",
            "iter 2500, loss: 0.000278\n",
            "iter 2600, loss: 0.000267\n",
            "iter 2700, loss: 0.000256\n",
            "iter 2800, loss: 0.000247\n",
            "iter 2900, loss: 0.000238\n",
            "iter 3000, loss: 0.000230\n",
            "iter 3100, loss: 0.000223\n",
            "iter 3200, loss: 0.000216\n",
            "iter 3300, loss: 0.000209\n",
            "iter 3400, loss: 0.000203\n",
            "iter 3500, loss: 0.000197\n",
            "iter 3600, loss: 0.000192\n",
            "iter 3700, loss: 0.000186\n",
            "iter 3800, loss: 0.000182\n",
            "iter 3900, loss: 0.000177\n",
            "iter 4000, loss: 0.000172\n",
            "iter 4100, loss: 0.000168\n",
            "iter 4200, loss: 0.000164\n",
            "iter 4300, loss: 0.000160\n",
            "iter 4400, loss: 0.000157\n",
            "iter 4500, loss: 0.000153\n",
            "iter 4600, loss: 0.000150\n",
            "iter 4700, loss: 0.000147\n",
            "iter 4800, loss: 0.000144\n",
            "iter 4900, loss: 0.000141\n"
          ]
        }
      ]
    },
    {
      "cell_type": "code",
      "source": [
        "def predict(test_char, length):\n",
        "    x = np.zeros((num_chars, 1)) \n",
        "    x[char_to_int[test_char]] = 1\n",
        "    ixes = []\n",
        "    h = np.zeros((hidden_size,1))\n",
        "\n",
        "    for t in range(length):\n",
        "        h = np.tanh(np.dot(W_xh, x) + np.dot(W_hh, h) + b_h) \n",
        "        y = np.dot(W_hy, h) + b_y\n",
        "        p = np.exp(y) / np.sum(np.exp(y)) \n",
        "        ix = np.random.choice(range(num_chars), p=p.ravel()) \n",
        "        x = np.zeros((num_chars, 1)) \n",
        "        x[ix] = 1 \n",
        "        ixes.append(ix) \n",
        "    txt = ''.join(int_to_char[i] for i in ixes)\n",
        "    print ('----\\n %s \\n----' % (txt, ))"
      ],
      "metadata": {
        "id": "N-YbPSWmZunz"
      },
      "execution_count": null,
      "outputs": []
    },
    {
      "cell_type": "code",
      "source": [
        "predict('a',30)"
      ],
      "metadata": {
        "colab": {
          "base_uri": "https://localhost:8080/"
        },
        "id": "XkKN5_MmZzWY",
        "outputId": "33943d09-6b28-4cd4-d991-b77a6f84bfaf"
      },
      "execution_count": null,
      "outputs": [
        {
          "output_type": "stream",
          "name": "stdout",
          "text": [
            "----\n",
            " bcdefghijklmnopqrstulmnopqrstu \n",
            "----\n"
          ]
        }
      ]
    },
    {
      "cell_type": "code",
      "source": [
        "predict('b',30)"
      ],
      "metadata": {
        "colab": {
          "base_uri": "https://localhost:8080/"
        },
        "id": "yoVQYtu5Z1p9",
        "outputId": "178cd7ff-84c1-4868-f057-994eacfa6008"
      },
      "execution_count": null,
      "outputs": [
        {
          "output_type": "stream",
          "name": "stdout",
          "text": [
            "----\n",
            " wmnefghijklmnopqrstulmnopqrstu \n",
            "----\n"
          ]
        }
      ]
    }
  ]
}